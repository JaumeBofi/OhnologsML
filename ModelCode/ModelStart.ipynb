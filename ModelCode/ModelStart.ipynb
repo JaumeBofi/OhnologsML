{
 "cells": [
  {
   "cell_type": "code",
   "execution_count": 46,
   "metadata": {},
   "outputs": [],
   "source": [
    "import os\n",
    "from matplotlib import pyplot as plt\n",
    "import pandas as pd\n",
    "import numpy as np\n",
    "import seaborn as sb\n",
    "import pickle as pkl"
   ]
  },
  {
   "cell_type": "code",
   "execution_count": 47,
   "metadata": {},
   "outputs": [],
   "source": [
    "filepath = \"Animals/\"\n",
    "animalList = [\"Human\",\"Pig\",\"Chicken\",\"Rat\",\"Mouse\",\"Dog\"]\n",
    "levelList = [\"Strict\",\"Relaxed\",\"Intermediate\"]\n",
    "sb.set_style(\"darkgrid\")"
   ]
  },
  {
   "cell_type": "code",
   "execution_count": 48,
   "metadata": {},
   "outputs": [],
   "source": [
    "def get_df_dict(level):\n",
    "    df_dict = {}\n",
    "    df_dict[\"Ohnologs\"] = {}\n",
    "    df_dict[\"No-Ohnologs\"] = {}\n",
    "    df_dict[\"Paralogs\"] = {}\n",
    "    for animal in animalList:        \n",
    "        current_file_path = filepath + animal + \"/\" + level + \"/\"\n",
    "        df_dict[\"Ohnologs\"][animal] = pd.read_pickle(current_file_path + animal + \"-\" + level +\"-ohnologs.pkl\")\n",
    "        df_dict[\"No-Ohnologs\"][animal] = pd.read_pickle(current_file_path + animal + \"-\" + level +\"-no-ohnologs.pkl\")\n",
    "        df_dict[\"Paralogs\"][animal] = pd.read_pickle(current_file_path + animal + \"-\" + level +\"-paralogues.pkl\")        \n",
    "    return df_dict"
   ]
  },
  {
   "cell_type": "code",
   "execution_count": 49,
   "metadata": {},
   "outputs": [],
   "source": [
    "def get_ohnologs_complete(ohnologs_df_dict):\n",
    "    df = pd.DataFrame(columns=['Sequence-1 Id','Sequence-2 Id','Sequence-1','Sequence-2','Sequence-1 Length','Sequence-2 Length','Sequence-1 GC','Sequence-2 GC','Is_Ohnolog'])\n",
    "    for animal in animalList:\n",
    "        df_temp = pd.DataFrame(columns=['Sequence-1 Id','Sequence-2 Id','Sequence-1','Sequence-2','Sequence-1 Length','Sequence-2 Length','Sequence-1 GC','Sequence-2 GC','Is_Ohnolog'])\n",
    "        df_temp['Sequence-1 Id'] = ohnologs_df_dict[animal][\"Ohnolog-1 Id\"]\n",
    "        df_temp['Sequence-2 Id'] = ohnologs_df_dict[animal][\"Ohnolog-2 Id\"]\n",
    "        df_temp['Sequence-1'] = ohnologs_df_dict[animal][\"Ohnolog-1/Sequence\"]\n",
    "        df_temp['Sequence-2'] = ohnologs_df_dict[animal][\"Ohnolog-2/Sequence\"]\n",
    "        df_temp['Sequence-1 Length'] = ohnologs_df_dict[animal][\"Ohnolog-1/Sequence-Lenght\"]\n",
    "        df_temp['Sequence-2 Length'] = ohnologs_df_dict[animal][\"Ohnolog-2/Sequence-Lenght\"]\n",
    "        df_temp['Sequence-1 GC'] = ohnologs_df_dict[animal][\"GC_Percent_1\"]\n",
    "        df_temp['Sequence-2 GC'] = ohnologs_df_dict[animal][\"GC_Percent_2\"]\n",
    "        df_temp['Is_Ohnolog'] = 1          \n",
    "\n",
    "        print(\"Size of \" + animal + \": \" + str(len(df_temp)))\n",
    "        df = df.append(df_temp)\n",
    "    return df"
   ]
  },
  {
   "cell_type": "code",
   "execution_count": 50,
   "metadata": {},
   "outputs": [],
   "source": [
    "def get_no_ohnologs_complete(ohnologs_df_dict):\n",
    "    df = pd.DataFrame(columns=['Sequence-1 Id','Sequence-2 Id','Sequence-1','Sequence-2','Sequence-1 Length','Sequence-2 Length','Sequence-1 GC','Sequence-2 GC','Is_Ohnolog'])\n",
    "    for animal in animalList:\n",
    "        df_temp = pd.DataFrame(columns=['Sequence-1 Id','Sequence-2 Id','Sequence-1','Sequence-2','Sequence-1 Length','Sequence-2 Length','Sequence-1 GC','Sequence-2 GC','Is_Ohnolog'])\n",
    "        df_temp['Sequence-1 Id'] = ohnologs_df_dict[animal][\"Ohnolog-1 Id\"]\n",
    "        df_temp['Sequence-2 Id'] = ohnologs_df_dict[animal][\"Ohnologs-2 Id\"]\n",
    "        df_temp['Sequence-1'] = ohnologs_df_dict[animal][\"Ohnolog-1/Sequence\"]\n",
    "        df_temp['Sequence-2'] = ohnologs_df_dict[animal][\"Ohnolog-2/Sequence\"]\n",
    "        df_temp['Sequence-1 Length'] = ohnologs_df_dict[animal][\"Ohnolog-1/Sequence-Lenght\"]\n",
    "        df_temp['Sequence-2 Length'] = ohnologs_df_dict[animal][\"Ohnolog-2/Sequence-Lenght\"]\n",
    "        df_temp['Sequence-1 GC'] = ohnologs_df_dict[animal][\"GC_Percent_1\"]\n",
    "        df_temp['Sequence-2 GC'] = ohnologs_df_dict[animal][\"GC_Percent_2\"]\n",
    "        df_temp['Is_Ohnolog'] = 0        \n",
    "\n",
    "        print(\"Size of \" + animal + \": \" + str(len(df_temp)))\n",
    "        df = df.append(df_temp)\n",
    "    return df"
   ]
  },
  {
   "cell_type": "code",
   "execution_count": 60,
   "metadata": {},
   "outputs": [],
   "source": [
    "def get_paralogs_complete(paralogs_df_dict):\n",
    "    df = pd.DataFrame(columns=['Sequence-1 Id','Sequence-2 Id','Sequence-1','Sequence-2','Sequence-1 Length','Sequence-2 Length','Sequence-1 GC','Sequence-2 GC','Is_Ohnolog'])\n",
    "    for animal in animalList:\n",
    "        df_temp = pd.DataFrame(columns=['Sequence-1 Id','Sequence-2 Id','Sequence-1','Sequence-2','Sequence-1 Length','Sequence-2 Length','Sequence-1 GC','Sequence-2 GC','Is_Ohnolog'])\n",
    "        df_temp['Sequence-1 Id'] = paralogs_df_dict[animal][\"Paralogue-1 Id\"]\n",
    "        df_temp['Sequence-2 Id'] = paralogs_df_dict[animal][\"Paralogue-2 Id\"]\n",
    "        df_temp['Sequence-1'] = paralogs_df_dict[animal][\"Paralogue-1/Sequence\"]\n",
    "        df_temp['Sequence-2'] = paralogs_df_dict[animal][\"Paralogue-2/Sequence\"]\n",
    "        df_temp['Sequence-1 Length'] = paralogs_df_dict[animal][\"Paralogue-1/Sequence-Lenght\"]\n",
    "        df_temp['Sequence-2 Length'] = paralogs_df_dict[animal][\"Paralogue-2/Sequence-Lenght\"]\n",
    "        df_temp['Sequence-1 GC'] = paralogs_df_dict[animal][\"GC_Percent_1\"]\n",
    "        df_temp['Sequence-2 GC'] = paralogs_df_dict[animal][\"GC_Percent_2\"]\n",
    "        df_temp['Is_Ohnolog'] = 0\n",
    "        print(\"Size of \" + animal + \": \" + str(len(df_temp)))\n",
    "        df = df.append(df_temp)\n",
    "    return df"
   ]
  },
  {
   "cell_type": "code",
   "execution_count": 52,
   "metadata": {},
   "outputs": [],
   "source": [
    "workingLevel = \"Strict\"\n",
    "df_gene_dict = get_df_dict(workingLevel)"
   ]
  },
  {
   "cell_type": "code",
   "execution_count": 53,
   "metadata": {},
   "outputs": [
    {
     "name": "stdout",
     "output_type": "stream",
     "text": [
      "Size of Human: 2636\n",
      "Size of Pig: 2509\n",
      "Size of Chicken: 833\n",
      "Size of Rat: 2121\n",
      "Size of Mouse: 2641\n",
      "Size of Dog: 2429\n"
     ]
    },
    {
     "data": {
      "text/plain": [
       "13169"
      ]
     },
     "execution_count": 53,
     "metadata": {},
     "output_type": "execute_result"
    }
   ],
   "source": [
    "ohnologs_df_complete = get_ohnologs_complete(df_gene_dict[\"Ohnologs\"])\n",
    "len(ohnologs_df_complete)"
   ]
  },
  {
   "cell_type": "code",
   "execution_count": 56,
   "metadata": {},
   "outputs": [
    {
     "name": "stdout",
     "output_type": "stream",
     "text": [
      "Size of Human: 2696\n",
      "Size of Pig: 2510\n",
      "Size of Chicken: 1622\n",
      "Size of Rat: 2891\n",
      "Size of Mouse: 2689\n",
      "Size of Dog: 2430\n"
     ]
    },
    {
     "data": {
      "text/plain": [
       "14838"
      ]
     },
     "execution_count": 56,
     "metadata": {},
     "output_type": "execute_result"
    }
   ],
   "source": [
    "no_ohnologs_df_complete = get_no_ohnologs_complete(df_gene_dict[\"No-Ohnologs\"])\n",
    "len(no_ohnologs_df_complete)"
   ]
  },
  {
   "cell_type": "code",
   "execution_count": 61,
   "metadata": {},
   "outputs": [
    {
     "name": "stdout",
     "output_type": "stream",
     "text": [
      "Size of Human: 2676\n",
      "Size of Pig: 1851\n",
      "Size of Chicken: 1452\n",
      "Size of Rat: 2885\n",
      "Size of Mouse: 2664\n",
      "Size of Dog: 2428\n"
     ]
    },
    {
     "data": {
      "text/plain": [
       "13956"
      ]
     },
     "execution_count": 61,
     "metadata": {},
     "output_type": "execute_result"
    }
   ],
   "source": [
    "paralog_df_complete = get_paralogs_complete(df_gene_dict[\"Paralogs\"])\n",
    "len(paralog_df_complete)"
   ]
  },
  {
   "cell_type": "code",
   "execution_count": 64,
   "metadata": {},
   "outputs": [
    {
     "data": {
      "text/plain": [
       "28007"
      ]
     },
     "execution_count": 64,
     "metadata": {},
     "output_type": "execute_result"
    }
   ],
   "source": [
    "df_ohnologs_dataset = ohnologs_df_complete.append(no_ohnologs_df_complete)\n",
    "df_ohnologs_dataset = df_ohnologs_dataset.sample(frac=1)\n",
    "len(df_ohnologs_dataset)"
   ]
  },
  {
   "cell_type": "code",
   "execution_count": 65,
   "metadata": {},
   "outputs": [
    {
     "data": {
      "text/html": [
       "<div>\n",
       "<style scoped>\n",
       "    .dataframe tbody tr th:only-of-type {\n",
       "        vertical-align: middle;\n",
       "    }\n",
       "\n",
       "    .dataframe tbody tr th {\n",
       "        vertical-align: top;\n",
       "    }\n",
       "\n",
       "    .dataframe thead th {\n",
       "        text-align: right;\n",
       "    }\n",
       "</style>\n",
       "<table border=\"1\" class=\"dataframe\">\n",
       "  <thead>\n",
       "    <tr style=\"text-align: right;\">\n",
       "      <th></th>\n",
       "      <th>Sequence-1 Id</th>\n",
       "      <th>Sequence-2 Id</th>\n",
       "      <th>Sequence-1</th>\n",
       "      <th>Sequence-2</th>\n",
       "      <th>Sequence-1 Length</th>\n",
       "      <th>Sequence-2 Length</th>\n",
       "      <th>Sequence-1 GC</th>\n",
       "      <th>Sequence-2 GC</th>\n",
       "      <th>Is_Ohnolog</th>\n",
       "    </tr>\n",
       "  </thead>\n",
       "  <tbody>\n",
       "    <tr>\n",
       "      <th>461</th>\n",
       "      <td>ENSCAFG00000001651</td>\n",
       "      <td>ENSCAFG00000011933</td>\n",
       "      <td>CGACTTCCTGATTCTCCCAGGATTCATAGACTTCATAGCTGATGAG...</td>\n",
       "      <td>TTCGGACACACGCGGCTTTGCCCGGTGCTGGCCATGGCCGACTACC...</td>\n",
       "      <td>2299</td>\n",
       "      <td>1470</td>\n",
       "      <td>0.599391</td>\n",
       "      <td>0.530612</td>\n",
       "      <td>1</td>\n",
       "    </tr>\n",
       "    <tr>\n",
       "      <th>1401</th>\n",
       "      <td>ENSMUSG00000067220</td>\n",
       "      <td>ENSMUSG00000026114</td>\n",
       "      <td>CCAAATCCAGTACTGAGCCACGAACATCCTCCCCTGCCAATGCCAT...</td>\n",
       "      <td>TATGCACTCCCTCTTGTCTTCCACCCCCTTCTCCACACCCAATCCA...</td>\n",
       "      <td>2739</td>\n",
       "      <td>3554</td>\n",
       "      <td>0.426068</td>\n",
       "      <td>0.510692</td>\n",
       "      <td>1</td>\n",
       "    </tr>\n",
       "    <tr>\n",
       "      <th>1829</th>\n",
       "      <td>ENSRNOG00000018718</td>\n",
       "      <td>ENSRNOG00000018232</td>\n",
       "      <td>ATGTCAGCATGGCGGCGTTCGCAGATTTGGATCTAAGAGCGGGCTC...</td>\n",
       "      <td>CGCCAGCGCGTGGTCCCGGCCCCCTCCACCCGCGGTCTCGGCCGCG...</td>\n",
       "      <td>1438</td>\n",
       "      <td>4104</td>\n",
       "      <td>0.420723</td>\n",
       "      <td>0.596248</td>\n",
       "      <td>0</td>\n",
       "    </tr>\n",
       "    <tr>\n",
       "      <th>2865</th>\n",
       "      <td>ENSRNOG00000061832</td>\n",
       "      <td>ENSRNOG00000046227</td>\n",
       "      <td>CCGCGGGAGCCGGCAGCGCTGCGGGTCAGCGGGCGCGGCGGAGCCG...</td>\n",
       "      <td>ATGACTTGGCGAAAAGCCAATCGTGAGACGCAGCCGACGGAGCTGG...</td>\n",
       "      <td>1925</td>\n",
       "      <td>1814</td>\n",
       "      <td>0.409870</td>\n",
       "      <td>0.565050</td>\n",
       "      <td>0</td>\n",
       "    </tr>\n",
       "    <tr>\n",
       "      <th>1590</th>\n",
       "      <td>ENSG00000168528</td>\n",
       "      <td>ENSG00000198833</td>\n",
       "      <td>GTATTTGTCTGGTTCCTGTCTGTGTCCGTCGTTCGTCCGACTGTCT...</td>\n",
       "      <td>CCGGGCGCCCGGTTCAGCGCCGCCCCGGCCGGCGCCGGTGCCTGCC...</td>\n",
       "      <td>2807</td>\n",
       "      <td>4290</td>\n",
       "      <td>0.614179</td>\n",
       "      <td>0.400699</td>\n",
       "      <td>0</td>\n",
       "    </tr>\n",
       "  </tbody>\n",
       "</table>\n",
       "</div>"
      ],
      "text/plain": [
       "           Sequence-1 Id       Sequence-2 Id  \\\n",
       "461   ENSCAFG00000001651  ENSCAFG00000011933   \n",
       "1401  ENSMUSG00000067220  ENSMUSG00000026114   \n",
       "1829  ENSRNOG00000018718  ENSRNOG00000018232   \n",
       "2865  ENSRNOG00000061832  ENSRNOG00000046227   \n",
       "1590     ENSG00000168528     ENSG00000198833   \n",
       "\n",
       "                                             Sequence-1  \\\n",
       "461   CGACTTCCTGATTCTCCCAGGATTCATAGACTTCATAGCTGATGAG...   \n",
       "1401  CCAAATCCAGTACTGAGCCACGAACATCCTCCCCTGCCAATGCCAT...   \n",
       "1829  ATGTCAGCATGGCGGCGTTCGCAGATTTGGATCTAAGAGCGGGCTC...   \n",
       "2865  CCGCGGGAGCCGGCAGCGCTGCGGGTCAGCGGGCGCGGCGGAGCCG...   \n",
       "1590  GTATTTGTCTGGTTCCTGTCTGTGTCCGTCGTTCGTCCGACTGTCT...   \n",
       "\n",
       "                                             Sequence-2 Sequence-1 Length  \\\n",
       "461   TTCGGACACACGCGGCTTTGCCCGGTGCTGGCCATGGCCGACTACC...              2299   \n",
       "1401  TATGCACTCCCTCTTGTCTTCCACCCCCTTCTCCACACCCAATCCA...              2739   \n",
       "1829  CGCCAGCGCGTGGTCCCGGCCCCCTCCACCCGCGGTCTCGGCCGCG...              1438   \n",
       "2865  ATGACTTGGCGAAAAGCCAATCGTGAGACGCAGCCGACGGAGCTGG...              1925   \n",
       "1590  CCGGGCGCCCGGTTCAGCGCCGCCCCGGCCGGCGCCGGTGCCTGCC...              2807   \n",
       "\n",
       "     Sequence-2 Length  Sequence-1 GC  Sequence-2 GC Is_Ohnolog  \n",
       "461               1470       0.599391       0.530612          1  \n",
       "1401              3554       0.426068       0.510692          1  \n",
       "1829              4104       0.420723       0.596248          0  \n",
       "2865              1814       0.409870       0.565050          0  \n",
       "1590              4290       0.614179       0.400699          0  "
      ]
     },
     "execution_count": 65,
     "metadata": {},
     "output_type": "execute_result"
    }
   ],
   "source": [
    "df_ohnologs_dataset.head()"
   ]
  }
 ],
 "metadata": {
  "kernelspec": {
   "display_name": "Python 3",
   "language": "python",
   "name": "python3"
  },
  "language_info": {
   "codemirror_mode": {
    "name": "ipython",
    "version": 3
   },
   "file_extension": ".py",
   "mimetype": "text/x-python",
   "name": "python",
   "nbconvert_exporter": "python",
   "pygments_lexer": "ipython3",
   "version": "3.6.8"
  }
 },
 "nbformat": 4,
 "nbformat_minor": 2
}
